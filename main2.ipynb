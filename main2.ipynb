{
 "cells": [
  {
   "cell_type": "code",
   "execution_count": 2,
   "metadata": {},
   "outputs": [],
   "source": [
    "import tensorflow as tf\n",
    "from tensorflow.keras.applications import EfficientNetV2B3\n",
    "from tensorflow.keras.preprocessing import image\n",
    "from sklearn.metrics import confusion_matrix, ConfusionMatrixDisplay\n",
    "import matplotlib.pyplot as plt\n",
    "import numpy as np"
   ]
  },
  {
   "cell_type": "code",
   "execution_count": 3,
   "metadata": {},
   "outputs": [],
   "source": [
    "# Directories for the test, train and validation dataset:\n",
    "\n",
    "train_dir = r\"C:\\Users\\91909\\Desktop\\LOOP Mentorship\\Railway_Fault_Track_Detection_Data\\Railway Track fault Detection Updated\\Train\"\n",
    "test_dir = r\"C:\\Users\\91909\\Desktop\\LOOP Mentorship\\Railway_Fault_Track_Detection_Data\\Railway Track fault Detection Updated\\Test\"\n",
    "validation_dir = r\"C:\\Users\\91909\\Desktop\\LOOP Mentorship\\Railway_Fault_Track_Detection_Data\\Railway Track fault Detection Updated\\Validation\""
   ]
  },
  {
   "cell_type": "code",
   "execution_count": null,
   "metadata": {},
   "outputs": [],
   "source": []
  }
 ],
 "metadata": {
  "kernelspec": {
   "display_name": "Python 3",
   "language": "python",
   "name": "python3"
  },
  "language_info": {
   "codemirror_mode": {
    "name": "ipython",
    "version": 3
   },
   "file_extension": ".py",
   "mimetype": "text/x-python",
   "name": "python",
   "nbconvert_exporter": "python",
   "pygments_lexer": "ipython3",
   "version": "3.10.0"
  }
 },
 "nbformat": 4,
 "nbformat_minor": 2
}
