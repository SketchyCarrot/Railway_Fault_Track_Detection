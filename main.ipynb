{
 "cells": [
  {
   "cell_type": "markdown",
   "metadata": {},
   "source": [
    "# Railway Track Fault Detector"
   ]
  },
  {
   "cell_type": "code",
   "execution_count": 1,
   "metadata": {},
   "outputs": [],
   "source": [
    "import numpy as np\n",
    "import matplotlib.pyplot as plt\n",
    "import tensorflow as tf\n",
    "from tensorflow import keras\n",
    "from keras import Sequential\n",
    "from keras.layers import Dense, Conv2D, MaxPooling2D, AveragePooling2D, Flatten, BatchNormalization, Dropout\n",
    "from keras.callbacks import EarlyStopping\n",
    "from keras.preprocessing import image\n",
    "from keras.preprocessing.image import ImageDataGenerator"
   ]
  },
  {
   "cell_type": "code",
   "execution_count": 2,
   "metadata": {},
   "outputs": [],
   "source": [
    "# Directories for the test, train and validation dataset:\n",
    "\n",
    "train_dir = r\"C:\\Users\\91909\\Desktop\\LOOP Mentorship\\Railway_Fault_Track_Detection_Data\\Railway Track fault Detection Updated\\Train\"\n",
    "test_dir = r\"C:\\Users\\91909\\Desktop\\LOOP Mentorship\\Railway_Fault_Track_Detection_Data\\Railway Track fault Detection Updated\\Test\"\n",
    "validation_dir = r\"C:\\Users\\91909\\Desktop\\LOOP Mentorship\\Railway_Fault_Track_Detection_Data\\Railway Track fault Detection Updated\\Validation\""
   ]
  },
  {
   "cell_type": "markdown",
   "metadata": {},
   "source": [
    "### Augmenting the data using ImageDataGenerator. All necessary modifiers have been applied."
   ]
  },
  {
   "cell_type": "code",
   "execution_count": 3,
   "metadata": {},
   "outputs": [],
   "source": [
    "augmentor_train = ImageDataGenerator(\n",
    "        rescale=1.0/255,\n",
    "        rotation_range=90,\n",
    "        shear_range=0.2,\n",
    "        zoom_range=0.2,\n",
    "        horizontal_flip=True,\n",
    "        fill_mode=\"nearest\")\n",
    "\n",
    "augmentor_test = ImageDataGenerator(\n",
    "        rescale=1.0/255)"
   ]
  },
  {
   "cell_type": "code",
   "execution_count": 4,
   "metadata": {},
   "outputs": [
    {
     "name": "stdout",
     "output_type": "stream",
     "text": [
      "Found 299 images belonging to 2 classes.\n",
      "Found 62 images belonging to 2 classes.\n",
      "Found 22 images belonging to 2 classes.\n"
     ]
    }
   ],
   "source": [
    "train_aug = augmentor_train.flow_from_directory(\n",
    "        train_dir,\n",
    "        target_size=(300, 300),\n",
    "        batch_size=32,\n",
    "        shuffle=True,\n",
    "        class_mode=\"binary\")\n",
    "\n",
    "validation_aug = augmentor_test.flow_from_directory(\n",
    "        validation_dir,\n",
    "        target_size=(300, 300),\n",
    "        batch_size=32,\n",
    "        class_mode=\"binary\")\n",
    "\n",
    "test_aug = augmentor_test.flow_from_directory(\n",
    "        test_dir,\n",
    "        target_size=(300, 300),\n",
    "        batch_size=32,\n",
    "        class_mode=\"binary\")"
   ]
  },
  {
   "cell_type": "markdown",
   "metadata": {},
   "source": [
    "### Model architecture:"
   ]
  },
  {
   "cell_type": "code",
   "execution_count": 5,
   "metadata": {},
   "outputs": [],
   "source": [
    "# model = Sequential()\n",
    "\n",
    "# # model.add(RandomFlip(mode=\"horizontal\"))\n",
    "# # model.add(RandomContrast(factor=0.2))\n",
    "# # model.add(RandomRotation(factor=0.25))\n",
    "\n",
    "# model.add(Conv2D(64, 3, padding=\"valid\",\n",
    "#                  activation=\"relu\", kernel_regularizer=keras.regularizers.l2(0.01)))\n",
    "# model.add(BatchNormalization())\n",
    "# model.add(MaxPooling2D())\n",
    "\n",
    "# model.add(Conv2D(128, 3, padding=\"valid\",\n",
    "#                  activation=\"relu\", kernel_regularizer=keras.regularizers.l2(0.01)))\n",
    "# model.add(BatchNormalization())\n",
    "# model.add(MaxPooling2D())\n",
    "\n",
    "# model.add(Conv2D(256, 3, padding=\"valid\",\n",
    "#                  activation=\"relu\", kernel_regularizer=keras.regularizers.l2(0.01)))\n",
    "# model.add(BatchNormalization())\n",
    "# model.add(MaxPooling2D())\n",
    "\n",
    "# model.add(Flatten())\n",
    "\n",
    "# model.add(Dense(128, activation=\"relu\", kernel_regularizer=keras.regularizers.l2(0.01)))\n",
    "# model.add(Dense(64, activation=\"relu\", kernel_regularizer=keras.regularizers.l2(0.01)))\n",
    "# model.add(Dense(32, activation=\"relu\", kernel_regularizer=keras.regularizers.l2(0.01)))\n",
    "# model.add(Dense(1, activation=\"sigmoid\"))\n",
    "\n",
    "# # model.add(MaxPooling2D(pool_size=(2, 2),\n",
    "# #                        strides=2,\n",
    "# #                        padding=\"same\"))"
   ]
  },
  {
   "cell_type": "code",
   "execution_count": 6,
   "metadata": {},
   "outputs": [],
   "source": [
    "# model = Sequential()\n",
    "\n",
    "# model.add(Conv2D(48, (3, 3), padding=\"valid\", activation=\"relu\"))\n",
    "# model.add(Conv2D(96, (3, 3), padding=\"valid\", activation=\"relu\"))\n",
    "# model.add(Conv2D(150, (3, 3), padding=\"valid\", activation=\"relu\"))\n",
    "\n",
    "# model.add(BatchNormalization())\n",
    "# model.add(Flatten())\n",
    "\n",
    "# model.add(Dense(96, activation=\"relu\"))\n",
    "# model.add(Dense(48, activation=\"relu\"))\n",
    "# model.add(Dense(15, activation=\"relu\"))\n",
    "# model.add(Dense(1, activation=\"sigmoid\"))"
   ]
  },
  {
   "cell_type": "code",
   "execution_count": 7,
   "metadata": {},
   "outputs": [],
   "source": [
    "model = Sequential()\n",
    "\n",
    "model.add(BatchNormalization())\n",
    "model.add(Conv2D(filters=8, kernel_size=4, activation=\"relu\", padding=\"valid\", input_shape=[300, 300, 3]))\n",
    "model.add(MaxPooling2D())\n",
    "model.add(BatchNormalization())\n",
    "model.add(Conv2D(filters=16, kernel_size=4, activation=\"relu\", padding=\"valid\", input_shape=[300, 300, 3]))\n",
    "model.add(MaxPooling2D())\n",
    "model.add(BatchNormalization())\n",
    "model.add(Conv2D(filters=32, kernel_size=4, activation=\"relu\", padding=\"valid\", input_shape=[300, 300, 3]))\n",
    "model.add(MaxPooling2D())\n",
    "model.add(BatchNormalization())\n",
    "model.add(Conv2D(filters=64, kernel_size=3, activation=\"relu\", padding=\"valid\"))\n",
    "model.add(MaxPooling2D())\n",
    "model.add(BatchNormalization())\n",
    "model.add(Conv2D(filters=128, kernel_size=3, activation=\"relu\", padding=\"valid\"))\n",
    "model.add(MaxPooling2D())\n",
    "model.add(BatchNormalization())\n",
    "model.add(Conv2D(filters=256, kernel_size=3, activation=\"relu\", padding=\"valid\"))\n",
    "model.add(MaxPooling2D())\n",
    "model.add(BatchNormalization())\n",
    "\n",
    "model.add(Flatten())\n",
    "model.add(BatchNormalization())\n",
    "\n",
    "model.add(Dense(512, activation=\"relu\"))\n",
    "model.add(Dropout(0.5))\n",
    "model.add(Dense(512, activation=\"relu\"))\n",
    "model.add(Dropout(0.5))\n",
    "model.add(Dense(1, activation=\"sigmoid\"))"
   ]
  },
  {
   "cell_type": "code",
   "execution_count": 8,
   "metadata": {},
   "outputs": [],
   "source": [
    "# model = tf.keras.Sequential()\n",
    "\n",
    "# model.add(tf.keras.layers.Conv2D(filters=64, kernel_size=7, activation=\"relu\", input_shape=[512, 640, 3]))\n",
    "# model.add(tf.keras.layers.MaxPooling2D(2))\n",
    "# model.add(tf.keras.layers.Conv2D(filters=128, kernel_size=3, activation=\"relu\"))\n",
    "# model.add(tf.keras.layers.Conv2D(filters=128, kernel_size=3, activation=\"relu\"))\n",
    "# model.add(tf.keras.layers.MaxPooling2D(2))\n",
    "# model.add(tf.keras.layers.Conv2D(filters=256, kernel_size=3, activation=\"relu\"))\n",
    "# model.add(tf.keras.layers.Conv2D(filters=256, kernel_size=3, activation=\"relu\"))\n",
    "# model.add(tf.keras.layers.MaxPooling2D(2))\n",
    "\n",
    "# model.add(tf.keras.layers.Flatten())\n",
    "# model.add(tf.keras.layers.Dense(128, activation='relu'))\n",
    "# model.add(tf.keras.layers.Dropout(0.5))\n",
    "# model.add(tf.keras.layers.Dense(64, activation='relu'))\n",
    "# model.add(tf.keras.layers.Dropout(0.5))\n",
    "# model.add(tf.keras.layers.Dense(2, activation='softmax'))\n",
    "\n",
    "# optimizer = tf.keras.optimizers.SGD(learning_rate=0.2) #, momentum=0.9, decay=0.1)\n",
    "# model.compile(optimizer=optimizer, loss='mse', metrics=['accuracy'])"
   ]
  },
  {
   "cell_type": "code",
   "execution_count": 9,
   "metadata": {},
   "outputs": [
    {
     "data": {
      "text/plain": [
       "(300, 300, 3)"
      ]
     },
     "execution_count": 9,
     "metadata": {},
     "output_type": "execute_result"
    }
   ],
   "source": [
    "train_aug.image_shape"
   ]
  },
  {
   "cell_type": "code",
   "execution_count": 10,
   "metadata": {},
   "outputs": [],
   "source": [
    "input_shape = (None, 300, 300, 3)"
   ]
  },
  {
   "cell_type": "code",
   "execution_count": 11,
   "metadata": {},
   "outputs": [],
   "source": [
    "model.build(input_shape=input_shape)"
   ]
  },
  {
   "cell_type": "code",
   "execution_count": 12,
   "metadata": {},
   "outputs": [
    {
     "name": "stdout",
     "output_type": "stream",
     "text": [
      "Model: \"sequential\"\n",
      "_________________________________________________________________\n",
      " Layer (type)                Output Shape              Param #   \n",
      "=================================================================\n",
      " batch_normalization (BatchN  (None, 300, 300, 3)      12        \n",
      " ormalization)                                                   \n",
      "                                                                 \n",
      " conv2d (Conv2D)             (None, 297, 297, 8)       392       \n",
      "                                                                 \n",
      " max_pooling2d (MaxPooling2D  (None, 148, 148, 8)      0         \n",
      " )                                                               \n",
      "                                                                 \n",
      " batch_normalization_1 (Batc  (None, 148, 148, 8)      32        \n",
      " hNormalization)                                                 \n",
      "                                                                 \n",
      " conv2d_1 (Conv2D)           (None, 145, 145, 16)      2064      \n",
      "                                                                 \n",
      " max_pooling2d_1 (MaxPooling  (None, 72, 72, 16)       0         \n",
      " 2D)                                                             \n",
      "                                                                 \n",
      " batch_normalization_2 (Batc  (None, 72, 72, 16)       64        \n",
      " hNormalization)                                                 \n",
      "                                                                 \n",
      " conv2d_2 (Conv2D)           (None, 69, 69, 32)        8224      \n",
      "                                                                 \n",
      " max_pooling2d_2 (MaxPooling  (None, 34, 34, 32)       0         \n",
      " 2D)                                                             \n",
      "                                                                 \n",
      " batch_normalization_3 (Batc  (None, 34, 34, 32)       128       \n",
      " hNormalization)                                                 \n",
      "                                                                 \n",
      " conv2d_3 (Conv2D)           (None, 32, 32, 64)        18496     \n",
      "                                                                 \n",
      " max_pooling2d_3 (MaxPooling  (None, 16, 16, 64)       0         \n",
      " 2D)                                                             \n",
      "                                                                 \n",
      " batch_normalization_4 (Batc  (None, 16, 16, 64)       256       \n",
      " hNormalization)                                                 \n",
      "                                                                 \n",
      " conv2d_4 (Conv2D)           (None, 14, 14, 128)       73856     \n",
      "                                                                 \n",
      " max_pooling2d_4 (MaxPooling  (None, 7, 7, 128)        0         \n",
      " 2D)                                                             \n",
      "                                                                 \n",
      " batch_normalization_5 (Batc  (None, 7, 7, 128)        512       \n",
      " hNormalization)                                                 \n",
      "                                                                 \n",
      " conv2d_5 (Conv2D)           (None, 5, 5, 256)         295168    \n",
      "                                                                 \n",
      " max_pooling2d_5 (MaxPooling  (None, 2, 2, 256)        0         \n",
      " 2D)                                                             \n",
      "                                                                 \n",
      " batch_normalization_6 (Batc  (None, 2, 2, 256)        1024      \n",
      " hNormalization)                                                 \n",
      "                                                                 \n",
      " flatten (Flatten)           (None, 1024)              0         \n",
      "                                                                 \n",
      " batch_normalization_7 (Batc  (None, 1024)             4096      \n",
      " hNormalization)                                                 \n",
      "                                                                 \n",
      " dense (Dense)               (None, 512)               524800    \n",
      "                                                                 \n",
      " dropout (Dropout)           (None, 512)               0         \n",
      "                                                                 \n",
      " dense_1 (Dense)             (None, 512)               262656    \n",
      "                                                                 \n",
      " dropout_1 (Dropout)         (None, 512)               0         \n",
      "                                                                 \n",
      " dense_2 (Dense)             (None, 1)                 513       \n",
      "                                                                 \n",
      "=================================================================\n",
      "Total params: 1,192,293\n",
      "Trainable params: 1,189,231\n",
      "Non-trainable params: 3,062\n",
      "_________________________________________________________________\n"
     ]
    }
   ],
   "source": [
    "model.summary()"
   ]
  },
  {
   "cell_type": "markdown",
   "metadata": {},
   "source": [
    "### Defining Early Stopping"
   ]
  },
  {
   "cell_type": "code",
   "execution_count": 13,
   "metadata": {},
   "outputs": [],
   "source": [
    "early_stopping = EarlyStopping(\n",
    "        monitor='val_loss',\n",
    "        min_delta=0.005,\n",
    "        patience=5,\n",
    "        restore_best_weights=True\n",
    ")"
   ]
  },
  {
   "cell_type": "markdown",
   "metadata": {},
   "source": [
    "### Compiling the model"
   ]
  },
  {
   "cell_type": "code",
   "execution_count": 14,
   "metadata": {},
   "outputs": [],
   "source": [
    "model.compile(optimizer=\"Adam\", loss=\"binary_crossentropy\", metrics=[\"accuracy\"])"
   ]
  },
  {
   "cell_type": "code",
   "execution_count": 15,
   "metadata": {},
   "outputs": [
    {
     "name": "stdout",
     "output_type": "stream",
     "text": [
      "Epoch 1/100\n",
      "10/10 [==============================] - 66s 5s/step - loss: 0.9682 - accuracy: 0.5318 - val_loss: 0.6967 - val_accuracy: 0.5000\n",
      "Epoch 2/100\n",
      "10/10 [==============================] - 46s 5s/step - loss: 0.9147 - accuracy: 0.5953 - val_loss: 0.6951 - val_accuracy: 0.5000\n",
      "Epoch 3/100\n",
      "10/10 [==============================] - 47s 5s/step - loss: 0.8324 - accuracy: 0.6254 - val_loss: 0.6936 - val_accuracy: 0.5000\n",
      "Epoch 4/100\n",
      "10/10 [==============================] - 46s 5s/step - loss: 0.7764 - accuracy: 0.6555 - val_loss: 0.6824 - val_accuracy: 0.6290\n",
      "Epoch 5/100\n",
      "10/10 [==============================] - 48s 5s/step - loss: 0.8909 - accuracy: 0.6187 - val_loss: 0.6912 - val_accuracy: 0.5484\n",
      "Epoch 6/100\n",
      "10/10 [==============================] - 49s 5s/step - loss: 0.7771 - accuracy: 0.6522 - val_loss: 0.7746 - val_accuracy: 0.5000\n",
      "Epoch 7/100\n",
      "10/10 [==============================] - 47s 5s/step - loss: 0.6565 - accuracy: 0.7057 - val_loss: 0.7751 - val_accuracy: 0.5000\n",
      "Epoch 8/100\n",
      "10/10 [==============================] - 48s 5s/step - loss: 0.6876 - accuracy: 0.6890 - val_loss: 0.7193 - val_accuracy: 0.5000\n",
      "Epoch 9/100\n",
      "10/10 [==============================] - 49s 5s/step - loss: 0.5546 - accuracy: 0.7258 - val_loss: 0.6766 - val_accuracy: 0.5968\n",
      "Epoch 10/100\n",
      "10/10 [==============================] - 53s 5s/step - loss: 0.5738 - accuracy: 0.7291 - val_loss: 0.6879 - val_accuracy: 0.4194\n",
      "Epoch 11/100\n",
      "10/10 [==============================] - 49s 5s/step - loss: 0.5869 - accuracy: 0.7458 - val_loss: 0.7081 - val_accuracy: 0.4839\n",
      "Epoch 12/100\n",
      "10/10 [==============================] - 47s 5s/step - loss: 0.5107 - accuracy: 0.7592 - val_loss: 0.5982 - val_accuracy: 0.7258\n",
      "Epoch 13/100\n",
      "10/10 [==============================] - 47s 5s/step - loss: 0.5978 - accuracy: 0.7625 - val_loss: 0.6819 - val_accuracy: 0.5161\n",
      "Epoch 14/100\n",
      "10/10 [==============================] - 48s 5s/step - loss: 0.6025 - accuracy: 0.7324 - val_loss: 0.5811 - val_accuracy: 0.7258\n",
      "Epoch 15/100\n",
      "10/10 [==============================] - 49s 5s/step - loss: 0.6236 - accuracy: 0.7191 - val_loss: 0.5513 - val_accuracy: 0.7258\n",
      "Epoch 16/100\n",
      "10/10 [==============================] - 49s 5s/step - loss: 0.5991 - accuracy: 0.7559 - val_loss: 0.6270 - val_accuracy: 0.6935\n",
      "Epoch 17/100\n",
      "10/10 [==============================] - 49s 5s/step - loss: 0.5383 - accuracy: 0.7023 - val_loss: 0.5782 - val_accuracy: 0.7419\n",
      "Epoch 18/100\n",
      "10/10 [==============================] - 48s 5s/step - loss: 0.5366 - accuracy: 0.7458 - val_loss: 0.5559 - val_accuracy: 0.6935\n",
      "Epoch 19/100\n",
      "10/10 [==============================] - 50s 5s/step - loss: 0.4888 - accuracy: 0.7559 - val_loss: 0.5349 - val_accuracy: 0.7581\n",
      "Epoch 20/100\n",
      "10/10 [==============================] - 49s 5s/step - loss: 0.4453 - accuracy: 0.7826 - val_loss: 0.5150 - val_accuracy: 0.7419\n",
      "Epoch 21/100\n",
      "10/10 [==============================] - 48s 5s/step - loss: 0.5317 - accuracy: 0.7525 - val_loss: 0.5851 - val_accuracy: 0.7258\n",
      "Epoch 22/100\n",
      "10/10 [==============================] - 48s 5s/step - loss: 0.5211 - accuracy: 0.7592 - val_loss: 0.6222 - val_accuracy: 0.6452\n",
      "Epoch 23/100\n",
      "10/10 [==============================] - 48s 5s/step - loss: 0.4401 - accuracy: 0.7726 - val_loss: 0.6047 - val_accuracy: 0.6452\n",
      "Epoch 24/100\n",
      "10/10 [==============================] - 49s 5s/step - loss: 0.4187 - accuracy: 0.8094 - val_loss: 0.7692 - val_accuracy: 0.5323\n",
      "Epoch 25/100\n",
      "10/10 [==============================] - 48s 5s/step - loss: 0.4039 - accuracy: 0.8227 - val_loss: 0.5585 - val_accuracy: 0.5968\n"
     ]
    }
   ],
   "source": [
    "history = model.fit(train_aug,\n",
    "                    epochs=100,\n",
    "                    validation_data=validation_aug,\n",
    "                    callbacks=[early_stopping])"
   ]
  },
  {
   "cell_type": "markdown",
   "metadata": {},
   "source": [
    "### Plotting the graphs of Accuracy and Loss of train and validation datasets over the epochs."
   ]
  },
  {
   "cell_type": "code",
   "execution_count": 23,
   "metadata": {},
   "outputs": [],
   "source": [
    "import matplotlib.pyplot as plt\n",
    "from sklearn.metrics import confusion_matrix, classification_report\n",
    "import seaborn as sns"
   ]
  },
  {
   "cell_type": "code",
   "execution_count": 24,
   "metadata": {},
   "outputs": [],
   "source": [
    "def printplot(history):\n",
    "        print(\"GRAPHS-----------------------\")\n",
    "        plt.figure(figsize=(15, 5))\n",
    "        plt.subplot(1, 2, 1)\n",
    "        plt.plot(history.history[\"accuracy\"], color=\"red\", label=\"train\")\n",
    "        plt.plot(history.history[\"val_accuracy\"], color=\"blue\", label=\"validation\")\n",
    "        plt.title(\"Graph of accuracy over epochs\")\n",
    "        plt.legend()\n",
    "\n",
    "        plt.subplot(1, 2, 2)\n",
    "        plt.plot(history.history[\"loss\"], color=\"red\", label=\"train\")\n",
    "        plt.plot(history.history[\"val_loss\"], color=\"blue\", label=\"validation\")\n",
    "        plt.title(\"Graph of loss over epochs\")\n",
    "        plt.legend()"
   ]
  },
  {
   "cell_type": "code",
   "execution_count": 25,
   "metadata": {},
   "outputs": [
    {
     "name": "stdout",
     "output_type": "stream",
     "text": [
      "GRAPHS-----------------------\n"
     ]
    },
    {
     "data": {
      "image/png": "[encoded data removed]",
      "text/plain": [
       "<Figure size 1500x500 with 2 Axes>"
      ]
     },
     "metadata": {},
     "output_type": "display_data"
    }
   ],
   "source": [
    "printplot(history)"
   ]
  },
  {
   "cell_type": "markdown",
   "metadata": {},
   "source": [
    "### Making predictions from the model."
   ]
  },
  {
   "cell_type": "code",
   "execution_count": 26,
   "metadata": {},
   "outputs": [
    {
     "name": "stdout",
     "output_type": "stream",
     "text": [
      "1/1 [==============================] - 3s 3s/step\n"
     ]
    }
   ],
   "source": [
    "y_pred = model.predict(test_aug, steps=len(test_aug))\n",
    "y_pred = np.round(y_pred).astype(int).flatten()\n",
    "y_true = test_aug.classes"
   ]
  },
  {
   "cell_type": "code",
   "execution_count": 27,
   "metadata": {},
   "outputs": [
    {
     "data": {
      "text/plain": [
       "array([0, 0, 1, 0, 1, 1, 0, 0, 0, 1, 1, 1, 1, 1, 1, 1, 1, 0, 0, 1, 1, 0])"
      ]
     },
     "execution_count": 27,
     "metadata": {},
     "output_type": "execute_result"
    }
   ],
   "source": [
    "y_pred"
   ]
  },
  {
   "cell_type": "code",
   "execution_count": 28,
   "metadata": {},
   "outputs": [
    {
     "data": {
      "text/plain": [
       "array([0, 0, 0, 0, 0, 0, 0, 0, 0, 0, 0, 1, 1, 1, 1, 1, 1, 1, 1, 1, 1, 1])"
      ]
     },
     "execution_count": 28,
     "metadata": {},
     "output_type": "execute_result"
    }
   ],
   "source": [
    "y_true"
   ]
  },
  {
   "cell_type": "markdown",
   "metadata": {},
   "source": [
    "### Plotting the Confusion Matrix and Classification Report."
   ]
  },
  {
   "cell_type": "code",
   "execution_count": 29,
   "metadata": {},
   "outputs": [
    {
     "name": "stdout",
     "output_type": "stream",
     "text": [
      "CLASSIFICATION REPORT----------------------------\n",
      "               precision    recall  f1-score   support\n",
      "\n",
      "    Defective       0.67      0.55      0.60        11\n",
      "Non defective       0.62      0.73      0.67        11\n",
      "\n",
      "     accuracy                           0.64        22\n",
      "    macro avg       0.64      0.64      0.63        22\n",
      " weighted avg       0.64      0.64      0.63        22\n",
      "\n"
     ]
    },
    {
     "data": {
      "image/png": "[encoded data removed]",
      "text/plain": [
       "<Figure size 640x480 with 2 Axes>"
      ]
     },
     "metadata": {},
     "output_type": "display_data"
    }
   ],
   "source": [
    "conf_matrix = confusion_matrix(y_true, y_pred)\n",
    "sns.heatmap(conf_matrix, annot=True)\n",
    "\n",
    "print(\"CLASSIFICATION REPORT----------------------------\")\n",
    "target_names = list(test_aug.class_indices.keys())\n",
    "print(classification_report(y_true, y_pred, target_names=target_names))"
   ]
  }
 ],
 "metadata": {
  "kernelspec": {
   "display_name": "Python 3",
   "language": "python",
   "name": "python3"
  },
  "language_info": {
   "codemirror_mode": {
    "name": "ipython",
    "version": 3
   },
   "file_extension": ".py",
   "mimetype": "text/x-python",
   "name": "python",
   "nbconvert_exporter": "python",
   "pygments_lexer": "ipython3",
   "version": "3.10.0"
  }
 },
 "nbformat": 4,
 "nbformat_minor": 2
}
