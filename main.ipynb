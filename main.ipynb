{
 "cells": [
  {
   "cell_type": "code",
   "execution_count": 21,
   "metadata": {},
   "outputs": [],
   "source": [
    "import numpy as np\n",
    "import cv2\n",
    "import os\n",
    "import random\n",
    "import matplotlib.pyplot as plt\n",
    "import tensorflow as tf\n",
    "from tensorflow import keras\n",
    "from keras import Sequential\n",
    "from keras.layers import Dense, Conv2D, MaxPooling2D, AveragePooling2D, Flatten, BatchNormalization, Dropout, RandomFlip, RandomContrast, RandomRotation, RandomCrop\n",
    "from keras.callbacks import EarlyStopping\n",
    "from keras.preprocessing import image\n",
    "from keras.preprocessing.image import ImageDataGenerator\n",
    "import os"
   ]
  },
  {
   "cell_type": "code",
   "execution_count": 22,
   "metadata": {},
   "outputs": [],
   "source": [
    "train_dir = r\"C:\\Users\\91909\\Desktop\\LOOP Mentorship\\Railway_Fault_Track_Detection_Data\\Railway Track fault Detection Updated\\Train\"\n",
    "test_dir = r\"C:\\Users\\91909\\Desktop\\LOOP Mentorship\\Railway_Fault_Track_Detection_Data\\Railway Track fault Detection Updated\\Test\"\n",
    "validation_dir = r\"C:\\Users\\91909\\Desktop\\LOOP Mentorship\\Railway_Fault_Track_Detection_Data\\Railway Track fault Detection Updated\\Validation\""
   ]
  },
  {
   "cell_type": "code",
   "execution_count": 23,
   "metadata": {},
   "outputs": [],
   "source": [
    "# categories = [\"Defective\", \"Non defective\"]"
   ]
  },
  {
   "cell_type": "code",
   "execution_count": 24,
   "metadata": {},
   "outputs": [],
   "source": [
    "# train_ds = []\n",
    "# test_ds = []\n",
    "# validation_ds = []\n",
    "\n",
    "# for i in categories:\n",
    "#         train_path = os.path.join(train_dir, i)\n",
    "#         test_path = os.path.join(test_dir, i)\n",
    "#         validation_path = os.path.join(validation_dir, i)\n",
    "#         if i == \"Defective\":\n",
    "#                 label = 1\n",
    "#         else:\n",
    "#                 label = 0\n",
    "        \n",
    "#         for j in os.listdir(train_path):\n",
    "#                 img_path1 = os.path.join(train_path, j)\n",
    "#                 img1 = cv2.imread(img_path1)\n",
    "#                 img1 = cv2.resize(img1, (300, 300))\n",
    "#                 train_ds.append([img1, label])\n",
    "        \n",
    "#         for k in os.listdir(test_path):\n",
    "#                 img_path2 = os.path.join(test_path, k)\n",
    "#                 img2 = cv2.imread(img_path2)\n",
    "#                 img2 = cv2.resize(img2, (300, 300))\n",
    "#                 train_ds.append([img2, label])\n",
    "        \n",
    "#         for l in os.listdir(validation_path):\n",
    "#                 img_path3 = os.path.join(validation_path, l)\n",
    "#                 img3 = cv2.imread(img_path3)\n",
    "#                 img3 = cv2.resize(img3, (300, 300))\n",
    "#                 train_ds.append([img3, label])"
   ]
  },
  {
   "cell_type": "code",
   "execution_count": 25,
   "metadata": {},
   "outputs": [],
   "source": [
    "# random.shuffle(train_ds)\n",
    "# random.shuffle(test_ds)\n",
    "# random.shuffle(validation_ds)"
   ]
  },
  {
   "cell_type": "code",
   "execution_count": 26,
   "metadata": {},
   "outputs": [],
   "source": [
    "# train_ds = np.array(train_ds)\n",
    "# test_ds = np.array(test_ds)\n",
    "# validation_ds = np.array(validation_ds)"
   ]
  },
  {
   "cell_type": "code",
   "execution_count": 27,
   "metadata": {},
   "outputs": [],
   "source": [
    "# image_size = (300, 300)\n",
    "# batch_size = 32"
   ]
  },
  {
   "cell_type": "code",
   "execution_count": 28,
   "metadata": {},
   "outputs": [],
   "source": [
    "# train_ds = keras.preprocessing.image_dataset_from_directory(train_dir, image_size=image_size, batch_size=batch_size, labels=\"inferred\")\n",
    "# test_ds = keras.preprocessing.image_dataset_from_directory(test_dir, image_size=image_size, batch_size=batch_size, labels=\"inferred\")\n",
    "# validation_ds = keras.preprocessing.image_dataset_from_directory(validation_dir, image_size=image_size, batch_size=batch_size, labels=\"inferred\")"
   ]
  },
  {
   "cell_type": "code",
   "execution_count": 29,
   "metadata": {},
   "outputs": [],
   "source": [
    "# def normalize(image, label):\n",
    "#         image = tf.cast(image/255.0, tf.float32)\n",
    "#         return image, label\n",
    "\n",
    "# train_ds = train_ds.map(normalize)\n",
    "# test_ds = test_ds.map(normalize)\n",
    "# validation_ds = validation_ds.map(normalize)"
   ]
  },
  {
   "cell_type": "code",
   "execution_count": 30,
   "metadata": {},
   "outputs": [],
   "source": [
    "# for images, labels in train_ds.take(1):        \n",
    "#         train_image = images[0]\n",
    "#         train_label = labels[0]\n",
    "\n",
    "#         train_image = train_image.numpy()\n",
    "#         plt.title(train_label.numpy())\n",
    "#         plt.imshow(train_image)"
   ]
  },
  {
   "cell_type": "code",
   "execution_count": 31,
   "metadata": {},
   "outputs": [],
   "source": [
    "augmentor_train = ImageDataGenerator(\n",
    "        rescale=1.0/255,\n",
    "        rotation_range=90,\n",
    "        shear_range=0.2,\n",
    "        zoom_range=0.2,\n",
    "        horizontal_flip=True,\n",
    "        fill_mode=\"nearest\")\n",
    "\n",
    "augmentor_test = ImageDataGenerator(\n",
    "        rescale=1.0/255)"
   ]
  },
  {
   "cell_type": "code",
   "execution_count": 32,
   "metadata": {},
   "outputs": [
    {
     "name": "stdout",
     "output_type": "stream",
     "text": [
      "Found 299 images belonging to 2 classes.\n",
      "Found 22 images belonging to 2 classes.\n"
     ]
    },
    {
     "name": "stdout",
     "output_type": "stream",
     "text": [
      "Found 62 images belonging to 2 classes.\n"
     ]
    }
   ],
   "source": [
    "train_aug = augmentor_train.flow_from_directory(\n",
    "        train_dir,\n",
    "        target_size=(200, 200),\n",
    "        batch_size=32,\n",
    "        shuffle=True,\n",
    "        class_mode=\"binary\")\n",
    "\n",
    "test_aug = augmentor_test.flow_from_directory(\n",
    "        test_dir,\n",
    "        target_size=(200, 200),\n",
    "        batch_size=32,\n",
    "        class_mode=\"binary\")\n",
    "\n",
    "validation_aug = augmentor_test.flow_from_directory(\n",
    "        validation_dir,\n",
    "        target_size=(200, 200),\n",
    "        batch_size=32,\n",
    "        class_mode=\"binary\")"
   ]
  },
  {
   "cell_type": "code",
   "execution_count": 87,
   "metadata": {},
   "outputs": [],
   "source": [
    "model = Sequential()\n",
    "\n",
    "# model.add(RandomFlip(mode=\"horizontal\"))\n",
    "# model.add(RandomFlip(mode=\"vertical\"))\n",
    "# model.add(RandomContrast(factor=0.2))\n",
    "# model.add(RandomRotation(factor=0.25))\n",
    "# model.add(RandomCrop(height=500, width=500))\n",
    "\n",
    "model.add(BatchNormalization(renorm=True))\n",
    "\n",
    "model.add(BatchNormalization(renorm=True))\n",
    "model.add(Conv2D(16, kernel_size=(3, 3),\n",
    "                 padding=\"valid\",\n",
    "                 activation=\"relu\"))\n",
    "model.add(MaxPooling2D())\n",
    "\n",
    "model.add(BatchNormalization(renorm=True))\n",
    "model.add(Conv2D(32, kernel_size=(3, 3),\n",
    "                 padding=\"valid\",\n",
    "                 activation=\"relu\"))\n",
    "model.add(MaxPooling2D())\n",
    "\n",
    "model.add(BatchNormalization(renorm=True))\n",
    "model.add(Conv2D(64, kernel_size=(3, 3),\n",
    "                 padding=\"valid\",\n",
    "                 activation=\"relu\"))\n",
    "model.add(MaxPooling2D())\n",
    "\n",
    "model.add(BatchNormalization(renorm=True))\n",
    "model.add(Conv2D(128, kernel_size=(3, 3),\n",
    "                 padding=\"valid\",\n",
    "                 activation=\"relu\"))\n",
    "model.add(MaxPooling2D())\n",
    "\n",
    "model.add(BatchNormalization(renorm=True))\n",
    "model.add(Conv2D(256, kernel_size=(3, 3),\n",
    "                 padding=\"valid\",\n",
    "                 activation=\"relu\"))\n",
    "model.add(MaxPooling2D())\n",
    "\n",
    "\n",
    "model.add(BatchNormalization(renorm=True))\n",
    "model.add(Flatten())\n",
    "\n",
    "model.add(Dense(64, activation=\"relu\"))\n",
    "model.add(Dropout(0.2))\n",
    "model.add(Dense(32, activation=\"relu\"))\n",
    "model.add(Dropout(0.2))\n",
    "model.add(Dense(16, activation=\"relu\"))\n",
    "model.add(Dropout(0.2))\n",
    "model.add(Dense(8, activation=\"relu\"))\n",
    "model.add(Dropout(0.2))\n",
    "model.add(Dense(1, activation=\"sigmoid\"))\n",
    "\n",
    "# model.add(MaxPooling2D(pool_size=(2, 2),\n",
    "#                        strides=2,\n",
    "#                        padding=\"valid\"))"
   ]
  },
  {
   "cell_type": "code",
   "execution_count": 88,
   "metadata": {},
   "outputs": [
    {
     "data": {
      "text/plain": [
       "(200, 200, 3)"
      ]
     },
     "execution_count": 88,
     "metadata": {},
     "output_type": "execute_result"
    }
   ],
   "source": [
    "train_aug.image_shape"
   ]
  },
  {
   "cell_type": "code",
   "execution_count": 89,
   "metadata": {},
   "outputs": [],
   "source": [
    "input_shape = (None, 200, 200, 3)"
   ]
  },
  {
   "cell_type": "code",
   "execution_count": 90,
   "metadata": {},
   "outputs": [],
   "source": [
    "model.build(input_shape=input_shape)"
   ]
  },
  {
   "cell_type": "code",
   "execution_count": 91,
   "metadata": {},
   "outputs": [
    {
     "name": "stdout",
     "output_type": "stream",
     "text": [
      "Model: \"sequential_8\"\n",
      "_________________________________________________________________\n",
      " Layer (type)                Output Shape              Param #   \n",
      "=================================================================\n",
      " batch_normalization_61 (Bat  (None, 200, 200, 3)      21        \n",
      " chNormalization)                                                \n",
      "                                                                 \n",
      " batch_normalization_62 (Bat  (None, 200, 200, 3)      21        \n",
      " chNormalization)                                                \n",
      "                                                                 \n",
      " conv2d_45 (Conv2D)          (None, 198, 198, 16)      448       \n",
      "                                                                 \n",
      " max_pooling2d_45 (MaxPoolin  (None, 99, 99, 16)       0         \n",
      " g2D)                                                            \n",
      "                                                                 \n",
      " batch_normalization_63 (Bat  (None, 99, 99, 16)       112       \n",
      " chNormalization)                                                \n",
      "                                                                 \n",
      " conv2d_46 (Conv2D)          (None, 97, 97, 32)        4640      \n",
      "                                                                 \n",
      " max_pooling2d_46 (MaxPoolin  (None, 48, 48, 32)       0         \n",
      " g2D)                                                            \n",
      "                                                                 \n",
      " batch_normalization_64 (Bat  (None, 48, 48, 32)       224       \n",
      " chNormalization)                                                \n",
      "                                                                 \n",
      " conv2d_47 (Conv2D)          (None, 46, 46, 64)        18496     \n",
      "                                                                 \n",
      " max_pooling2d_47 (MaxPoolin  (None, 23, 23, 64)       0         \n",
      " g2D)                                                            \n",
      "                                                                 \n",
      " batch_normalization_65 (Bat  (None, 23, 23, 64)       448       \n",
      " chNormalization)                                                \n",
      "                                                                 \n",
      " conv2d_48 (Conv2D)          (None, 21, 21, 128)       73856     \n",
      "                                                                 \n",
      " max_pooling2d_48 (MaxPoolin  (None, 10, 10, 128)      0         \n",
      " g2D)                                                            \n",
      "                                                                 \n",
      " batch_normalization_66 (Bat  (None, 10, 10, 128)      896       \n",
      " chNormalization)                                                \n",
      "                                                                 \n",
      " conv2d_49 (Conv2D)          (None, 8, 8, 256)         295168    \n",
      "                                                                 \n",
      " max_pooling2d_49 (MaxPoolin  (None, 4, 4, 256)        0         \n",
      " g2D)                                                            \n",
      "                                                                 \n",
      " batch_normalization_67 (Bat  (None, 4, 4, 256)        1792      \n",
      " chNormalization)                                                \n",
      "                                                                 \n",
      " flatten_8 (Flatten)         (None, 4096)              0         \n",
      "                                                                 \n",
      " dense_40 (Dense)            (None, 64)                262208    \n",
      "                                                                 \n",
      " dropout_32 (Dropout)        (None, 64)                0         \n",
      "                                                                 \n",
      " dense_41 (Dense)            (None, 32)                2080      \n",
      "                                                                 \n",
      " dropout_33 (Dropout)        (None, 32)                0         \n",
      "                                                                 \n",
      " dense_42 (Dense)            (None, 16)                528       \n",
      "                                                                 \n",
      " dropout_34 (Dropout)        (None, 16)                0         \n",
      "                                                                 \n",
      " dense_43 (Dense)            (None, 8)                 136       \n",
      "                                                                 \n",
      " dropout_35 (Dropout)        (None, 8)                 0         \n",
      "                                                                 \n",
      " dense_44 (Dense)            (None, 1)                 9         \n",
      "                                                                 \n",
      "=================================================================\n",
      "Total params: 661,083\n",
      "Trainable params: 658,573\n",
      "Non-trainable params: 2,510\n",
      "_________________________________________________________________\n"
     ]
    }
   ],
   "source": [
    "model.summary()"
   ]
  },
  {
   "cell_type": "code",
   "execution_count": 92,
   "metadata": {},
   "outputs": [],
   "source": [
    "early_stopping = EarlyStopping(\n",
    "        monitor='val_loss',\n",
    "        min_delta=0.005,\n",
    "        patience=5,\n",
    "        restore_best_weights=True\n",
    ")"
   ]
  },
  {
   "cell_type": "code",
   "execution_count": 93,
   "metadata": {},
   "outputs": [],
   "source": [
    "model.compile(optimizer=\"adam\", loss=\"binary_crossentropy\", metrics=[\"accuracy\"])"
   ]
  },
  {
   "cell_type": "code",
   "execution_count": 94,
   "metadata": {},
   "outputs": [
    {
     "name": "stdout",
     "output_type": "stream",
     "text": [
      "Epoch 1/20\n",
      "10/10 [==============================] - 53s 5s/step - loss: 0.7147 - accuracy: 0.4916 - val_loss: 0.6946 - val_accuracy: 0.5000\n",
      "Epoch 2/20\n",
      "10/10 [==============================] - 43s 4s/step - loss: 0.6966 - accuracy: 0.5151 - val_loss: 0.6931 - val_accuracy: 0.4839\n",
      "Epoch 3/20\n",
      "10/10 [==============================] - 42s 4s/step - loss: 0.7144 - accuracy: 0.4682 - val_loss: 0.6966 - val_accuracy: 0.4355\n",
      "Epoch 4/20\n",
      "10/10 [==============================] - 44s 4s/step - loss: 0.6979 - accuracy: 0.5251 - val_loss: 0.7006 - val_accuracy: 0.5161\n",
      "Epoch 5/20\n",
      "10/10 [==============================] - 45s 5s/step - loss: 0.6836 - accuracy: 0.4950 - val_loss: 0.6384 - val_accuracy: 0.6774\n",
      "Epoch 6/20\n",
      "10/10 [==============================] - 47s 5s/step - loss: 0.9508 - accuracy: 0.5084 - val_loss: 0.6787 - val_accuracy: 0.5645\n",
      "Epoch 7/20\n",
      "10/10 [==============================] - 47s 5s/step - loss: 0.7286 - accuracy: 0.5686 - val_loss: 0.6170 - val_accuracy: 0.6613\n",
      "Epoch 8/20\n",
      "10/10 [==============================] - 47s 5s/step - loss: 0.6993 - accuracy: 0.6355 - val_loss: 0.6728 - val_accuracy: 0.5161\n",
      "Epoch 9/20\n",
      "10/10 [==============================] - 44s 4s/step - loss: 0.6501 - accuracy: 0.5953 - val_loss: 0.6222 - val_accuracy: 0.6774\n",
      "Epoch 10/20\n",
      "10/10 [==============================] - 45s 5s/step - loss: 0.6574 - accuracy: 0.6522 - val_loss: 0.6646 - val_accuracy: 0.5968\n",
      "Epoch 11/20\n",
      "10/10 [==============================] - 46s 5s/step - loss: 0.6851 - accuracy: 0.5886 - val_loss: 0.6390 - val_accuracy: 0.5323\n",
      "Epoch 12/20\n",
      "10/10 [==============================] - 44s 5s/step - loss: 0.6421 - accuracy: 0.6187 - val_loss: 0.6103 - val_accuracy: 0.6452\n",
      "Epoch 13/20\n",
      "10/10 [==============================] - 46s 5s/step - loss: 0.7194 - accuracy: 0.5686 - val_loss: 0.6193 - val_accuracy: 0.6774\n",
      "Epoch 14/20\n",
      "10/10 [==============================] - 46s 5s/step - loss: 0.6508 - accuracy: 0.5619 - val_loss: 0.5937 - val_accuracy: 0.6774\n",
      "Epoch 15/20\n",
      "10/10 [==============================] - 45s 4s/step - loss: 0.7548 - accuracy: 0.6254 - val_loss: 0.5911 - val_accuracy: 0.7097\n",
      "Epoch 16/20\n",
      "10/10 [==============================] - 44s 5s/step - loss: 0.7344 - accuracy: 0.5652 - val_loss: 0.6509 - val_accuracy: 0.5968\n",
      "Epoch 17/20\n",
      "10/10 [==============================] - 44s 4s/step - loss: 0.6829 - accuracy: 0.6254 - val_loss: 0.6212 - val_accuracy: 0.6613\n",
      "Epoch 18/20\n",
      "10/10 [==============================] - 44s 4s/step - loss: 0.8520 - accuracy: 0.6321 - val_loss: 0.5740 - val_accuracy: 0.7097\n",
      "Epoch 19/20\n",
      "10/10 [==============================] - 44s 4s/step - loss: 0.8604 - accuracy: 0.5853 - val_loss: 0.6089 - val_accuracy: 0.6129\n",
      "Epoch 20/20\n",
      "10/10 [==============================] - 44s 4s/step - loss: 0.6771 - accuracy: 0.5953 - val_loss: 0.5277 - val_accuracy: 0.7097\n"
     ]
    }
   ],
   "source": [
    "history = model.fit(train_aug,\n",
    "                    epochs=20,\n",
    "                    validation_data=validation_aug,\n",
    "                    callbacks=[early_stopping])"
   ]
  },
  {
   "cell_type": "code",
   "execution_count": 95,
   "metadata": {},
   "outputs": [
    {
     "data": {
      "image/png": "[encoded data removed]",
      "text/plain": [
       "<Figure size 640x480 with 1 Axes>"
      ]
     },
     "metadata": {},
     "output_type": "display_data"
    }
   ],
   "source": [
    "import matplotlib.pyplot as plt\n",
    "\n",
    "plt.plot(history.history[\"accuracy\"], color=\"red\", label=\"train\")\n",
    "plt.plot(history.history[\"val_accuracy\"], color=\"blue\", label=\"validation\")\n",
    "plt.title(\"Accuracy\")\n",
    "plt.legend()\n",
    "plt.show()"
   ]
  },
  {
   "cell_type": "code",
   "execution_count": 96,
   "metadata": {},
   "outputs": [
    {
     "data": {
      "image/png": "[encoded data removed]",
      "text/plain": [
       "<Figure size 640x480 with 1 Axes>"
      ]
     },
     "metadata": {},
     "output_type": "display_data"
    }
   ],
   "source": [
    "plt.plot(history.history[\"loss\"], color=\"red\", label=\"train\")\n",
    "plt.plot(history.history[\"val_loss\"], color=\"blue\", label=\"validation\")\n",
    "plt.title(\"Loss\")\n",
    "plt.legend()\n",
    "plt.show()"
   ]
  },
  {
   "cell_type": "code",
   "execution_count": 99,
   "metadata": {},
   "outputs": [
    {
     "name": "stdout",
     "output_type": "stream",
     "text": [
      "1/1 [==============================] - 3s 3s/step\n"
     ]
    }
   ],
   "source": [
    "prediction = model.predict(test_aug, steps=len(test_aug))"
   ]
  },
  {
   "cell_type": "code",
   "execution_count": 103,
   "metadata": {},
   "outputs": [],
   "source": [
    "from sklearn.metrics import confusion_matrix, classification_report\n",
    "import seaborn as sns"
   ]
  },
  {
   "cell_type": "code",
   "execution_count": 104,
   "metadata": {},
   "outputs": [
    {
     "name": "stdout",
     "output_type": "stream",
     "text": [
      "1/1 [==============================] - 3s 3s/step\n"
     ]
    }
   ],
   "source": [
    "Y_pred = model.predict(test_aug, steps=len(test_aug))\n",
    "y_true = test_aug.classes"
   ]
  },
  {
   "cell_type": "code",
   "execution_count": 105,
   "metadata": {},
   "outputs": [
    {
     "name": "stdout",
     "output_type": "stream",
     "text": [
      "Confusion Matrix\n",
      "[[7 4]\n",
      " [6 5]]\n",
      "Classification Report\n",
      "               precision    recall  f1-score   support\n",
      "\n",
      "    Defective       0.54      0.64      0.58        11\n",
      "Non defective       0.56      0.45      0.50        11\n",
      "\n",
      "     accuracy                           0.55        22\n",
      "    macro avg       0.55      0.55      0.54        22\n",
      " weighted avg       0.55      0.55      0.54        22\n",
      "\n"
     ]
    }
   ],
   "source": [
    "cm = confusion_matrix(y_true, y_pred)\n",
    "print('Confusion Matrix')\n",
    "print(cm)\n",
    "\n",
    "print('Classification Report')\n",
    "target_names = list(test_aug.class_indices.keys())\n",
    "print(classification_report(y_true, y_pred, target_names=target_names))"
   ]
  },
  {
   "cell_type": "code",
   "execution_count": null,
   "metadata": {},
   "outputs": [],
   "source": []
  },
  {
   "cell_type": "code",
   "execution_count": null,
   "metadata": {},
   "outputs": [],
   "source": []
  }
 ],
 "metadata": {
  "kernelspec": {
   "display_name": "Python 3",
   "language": "python",
   "name": "python3"
  },
  "language_info": {
   "codemirror_mode": {
    "name": "ipython",
    "version": 3
   },
   "file_extension": ".py",
   "mimetype": "text/x-python",
   "name": "python",
   "nbconvert_exporter": "python",
   "pygments_lexer": "ipython3",
   "version": "3.10.0"
  }
 },
 "nbformat": 4,
 "nbformat_minor": 2
}
