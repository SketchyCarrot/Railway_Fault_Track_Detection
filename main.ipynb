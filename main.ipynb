{
 "cells": [
  {
   "cell_type": "code",
   "execution_count": 1,
   "metadata": {},
   "outputs": [],
   "source": [
    "import numpy as np\n",
    "import cv2\n",
    "import os\n",
    "import random\n",
    "import matplotlib.pyplot as plt\n",
    "import tensorflow as tf\n",
    "from tensorflow import keras\n",
    "from keras import Sequential\n",
    "from keras.layers import Dense, Conv2D, MaxPooling2D, Flatten, BatchNormalization, Dropout, RandomFlip, RandomContrast, RandomRotation, RandomCrop\n",
    "from keras.callbacks import EarlyStopping\n",
    "from keras.preprocessing import image\n",
    "from keras.preprocessing.image import ImageDataGenerator\n",
    "import os"
   ]
  },
  {
   "cell_type": "code",
   "execution_count": 2,
   "metadata": {},
   "outputs": [],
   "source": [
    "train_dir = r\"C:\\Users\\91909\\Desktop\\LOOP Mentorship\\Railway_Fault_Track_Detection_Data\\Railway Track fault Detection Updated\\Train\"\n",
    "test_dir = r\"C:\\Users\\91909\\Desktop\\LOOP Mentorship\\Railway_Fault_Track_Detection_Data\\Railway Track fault Detection Updated\\Test\"\n",
    "validation_dir = r\"C:\\Users\\91909\\Desktop\\LOOP Mentorship\\Railway_Fault_Track_Detection_Data\\Railway Track fault Detection Updated\\Validation\""
   ]
  },
  {
   "cell_type": "code",
   "execution_count": 3,
   "metadata": {},
   "outputs": [],
   "source": [
    "# categories = [\"Defective\", \"Non defective\"]"
   ]
  },
  {
   "cell_type": "code",
   "execution_count": 4,
   "metadata": {},
   "outputs": [],
   "source": [
    "# train_ds = []\n",
    "# test_ds = []\n",
    "# validation_ds = []\n",
    "\n",
    "# for i in categories:\n",
    "#         train_path = os.path.join(train_dir, i)\n",
    "#         test_path = os.path.join(test_dir, i)\n",
    "#         validation_path = os.path.join(validation_dir, i)\n",
    "#         if i == \"Defective\":\n",
    "#                 label = 1\n",
    "#         else:\n",
    "#                 label = 0\n",
    "        \n",
    "#         for j in os.listdir(train_path):\n",
    "#                 img_path1 = os.path.join(train_path, j)\n",
    "#                 img1 = cv2.imread(img_path1)\n",
    "#                 img1 = cv2.resize(img1, (300, 300))\n",
    "#                 train_ds.append([img1, label])\n",
    "        \n",
    "#         for k in os.listdir(test_path):\n",
    "#                 img_path2 = os.path.join(test_path, k)\n",
    "#                 img2 = cv2.imread(img_path2)\n",
    "#                 img2 = cv2.resize(img2, (300, 300))\n",
    "#                 train_ds.append([img2, label])\n",
    "        \n",
    "#         for l in os.listdir(validation_path):\n",
    "#                 img_path3 = os.path.join(validation_path, l)\n",
    "#                 img3 = cv2.imread(img_path3)\n",
    "#                 img3 = cv2.resize(img3, (300, 300))\n",
    "#                 train_ds.append([img3, label])"
   ]
  },
  {
   "cell_type": "code",
   "execution_count": 5,
   "metadata": {},
   "outputs": [],
   "source": [
    "# random.shuffle(train_ds)\n",
    "# random.shuffle(test_ds)\n",
    "# random.shuffle(validation_ds)"
   ]
  },
  {
   "cell_type": "code",
   "execution_count": 6,
   "metadata": {},
   "outputs": [],
   "source": [
    "# train_ds = np.array(train_ds)\n",
    "# test_ds = np.array(test_ds)\n",
    "# validation_ds = np.array(validation_ds)"
   ]
  },
  {
   "cell_type": "code",
   "execution_count": 7,
   "metadata": {},
   "outputs": [],
   "source": [
    "# image_size = (300, 300)\n",
    "# batch_size = 32"
   ]
  },
  {
   "cell_type": "code",
   "execution_count": 8,
   "metadata": {},
   "outputs": [],
   "source": [
    "# train_ds = keras.preprocessing.image_dataset_from_directory(train_dir, image_size=image_size, batch_size=batch_size, labels=\"inferred\")\n",
    "# test_ds = keras.preprocessing.image_dataset_from_directory(test_dir, image_size=image_size, batch_size=batch_size, labels=\"inferred\")\n",
    "# validation_ds = keras.preprocessing.image_dataset_from_directory(validation_dir, image_size=image_size, batch_size=batch_size, labels=\"inferred\")"
   ]
  },
  {
   "cell_type": "code",
   "execution_count": 9,
   "metadata": {},
   "outputs": [],
   "source": [
    "# def normalize(image, label):\n",
    "#         image = tf.cast(image/255.0, tf.float32)\n",
    "#         return image, label\n",
    "\n",
    "# train_ds = train_ds.map(normalize)\n",
    "# test_ds = test_ds.map(normalize)\n",
    "# validation_ds = validation_ds.map(normalize)"
   ]
  },
  {
   "cell_type": "code",
   "execution_count": 10,
   "metadata": {},
   "outputs": [],
   "source": [
    "# for images, labels in train_ds.take(1):        \n",
    "#         train_image = images[0]\n",
    "#         train_label = labels[0]\n",
    "\n",
    "#         train_image = train_image.numpy()\n",
    "#         plt.title(train_label.numpy())\n",
    "#         plt.imshow(train_image)"
   ]
  },
  {
   "cell_type": "code",
   "execution_count": 11,
   "metadata": {},
   "outputs": [],
   "source": [
    "augmentor_train = ImageDataGenerator(\n",
    "        rescale=1.0/255,\n",
    "        rotation_range=90,\n",
    "        shear_range=0.2,\n",
    "        zoom_range=0.2,\n",
    "        horizontal_flip=True,\n",
    "        vertical_flip=True,\n",
    "        width_shift_range=0.2,\n",
    "        height_shift_range=0.2,\n",
    "        fill_mode=\"nearest\")\n",
    "\n",
    "augmentor_test = ImageDataGenerator(\n",
    "        rescale=1.0/255)"
   ]
  },
  {
   "cell_type": "code",
   "execution_count": 12,
   "metadata": {},
   "outputs": [
    {
     "name": "stdout",
     "output_type": "stream",
     "text": [
      "Found 299 images belonging to 2 classes.\n",
      "Found 22 images belonging to 2 classes.\n",
      "Found 62 images belonging to 2 classes.\n"
     ]
    }
   ],
   "source": [
    "train_aug = augmentor_train.flow_from_directory(\n",
    "        train_dir,\n",
    "        target_size=(256, 256),\n",
    "        batch_size=32,\n",
    "        class_mode=\"binary\")\n",
    "\n",
    "test_aug = augmentor_test.flow_from_directory(\n",
    "        test_dir,\n",
    "        target_size=(256, 256),\n",
    "        batch_size=32,\n",
    "        class_mode=\"binary\")\n",
    "\n",
    "validation_aug = augmentor_test.flow_from_directory(\n",
    "        validation_dir,\n",
    "        target_size=(256, 256),\n",
    "        batch_size=32,\n",
    "        class_mode=\"binary\")"
   ]
  },
  {
   "cell_type": "code",
   "execution_count": 52,
   "metadata": {},
   "outputs": [],
   "source": [
    "model = Sequential()\n",
    "\n",
    "# model.add(RandomFlip(mode=\"horizontal\"))\n",
    "# model.add(RandomFlip(mode=\"vertical\"))\n",
    "# model.add(RandomContrast(factor=0.2))\n",
    "# model.add(RandomRotation(factor=0.25))\n",
    "# model.add(RandomCrop(height=500, width=500))\n",
    "\n",
    "model.add(BatchNormalization())\n",
    "model.add(Conv2D(32, kernel_size=(3, 3),\n",
    "                 padding=\"valid\",\n",
    "                 activation=\"relu\",\n",
    "                 input_shape=(256, 256, 3)))\n",
    "model.add(MaxPooling2D(pool_size=(2, 2),\n",
    "                       strides=2,\n",
    "                       padding=\"valid\"))\n",
    "\n",
    "model.add(Conv2D(64, kernel_size=(3, 3),\n",
    "                 padding=\"valid\",\n",
    "                 activation=\"relu\"))\n",
    "model.add(MaxPooling2D(pool_size=(2, 2),\n",
    "                       strides=2,\n",
    "                       padding=\"valid\"))\n",
    "\n",
    "model.add(Conv2D(128, kernel_size=(3, 3),\n",
    "                 padding=\"valid\",\n",
    "                 activation=\"relu\"))\n",
    "model.add(MaxPooling2D(pool_size=(2, 2),\n",
    "                       strides=2,\n",
    "                       padding=\"valid\"))\n",
    "\n",
    "model.add(Conv2D(512, kernel_size=(3, 3),\n",
    "                 padding=\"valid\",\n",
    "                 activation=\"relu\"))\n",
    "model.add(MaxPooling2D(pool_size=(2, 2),\n",
    "                       strides=2,\n",
    "                       padding=\"valid\"))\n",
    "\n",
    "model.add(Conv2D(1024, kernel_size=(3, 3),\n",
    "                 padding=\"valid\",\n",
    "                 activation=\"relu\"))\n",
    "model.add(MaxPooling2D(pool_size=(2, 2),\n",
    "                       strides=2,\n",
    "                       padding=\"valid\"))\n",
    "\n",
    "model.add(BatchNormalization())\n",
    "model.add(Flatten())\n",
    "\n",
    "model.add(Dense(50, activation=\"relu\"))\n",
    "model.add(Dropout(0.2))\n",
    "model.add(Dense(64, activation=\"relu\"))\n",
    "model.add(Dropout(0.2))\n",
    "model.add(Dense(32, activation=\"relu\"))\n",
    "model.add(Dropout(0.2))\n",
    "model.add(Dense(1, activation=\"sigmoid\"))"
   ]
  },
  {
   "cell_type": "code",
   "execution_count": 53,
   "metadata": {},
   "outputs": [
    {
     "data": {
      "text/plain": [
       "(256, 256, 3)"
      ]
     },
     "execution_count": 53,
     "metadata": {},
     "output_type": "execute_result"
    }
   ],
   "source": [
    "train_aug.image_shape"
   ]
  },
  {
   "cell_type": "code",
   "execution_count": 54,
   "metadata": {},
   "outputs": [],
   "source": [
    "input_shape = (None, 256, 256, 3)"
   ]
  },
  {
   "cell_type": "code",
   "execution_count": 55,
   "metadata": {},
   "outputs": [],
   "source": [
    "model.build(input_shape=input_shape)"
   ]
  },
  {
   "cell_type": "code",
   "execution_count": 56,
   "metadata": {},
   "outputs": [
    {
     "name": "stdout",
     "output_type": "stream",
     "text": [
      "Model: \"sequential_5\"\n",
      "_________________________________________________________________\n",
      " Layer (type)                Output Shape              Param #   \n",
      "=================================================================\n",
      " batch_normalization_10 (Bat  (None, 256, 256, 3)      12        \n",
      " chNormalization)                                                \n",
      "                                                                 \n",
      " conv2d_18 (Conv2D)          (None, 254, 254, 32)      896       \n",
      "                                                                 \n",
      " max_pooling2d_18 (MaxPoolin  (None, 127, 127, 32)     0         \n",
      " g2D)                                                            \n",
      "                                                                 \n",
      " conv2d_19 (Conv2D)          (None, 125, 125, 64)      18496     \n",
      "                                                                 \n",
      " max_pooling2d_19 (MaxPoolin  (None, 62, 62, 64)       0         \n",
      " g2D)                                                            \n",
      "                                                                 \n",
      " conv2d_20 (Conv2D)          (None, 60, 60, 128)       73856     \n",
      "                                                                 \n",
      " max_pooling2d_20 (MaxPoolin  (None, 30, 30, 128)      0         \n",
      " g2D)                                                            \n",
      "                                                                 \n",
      " conv2d_21 (Conv2D)          (None, 28, 28, 512)       590336    \n",
      "                                                                 \n",
      " max_pooling2d_21 (MaxPoolin  (None, 14, 14, 512)      0         \n",
      " g2D)                                                            \n",
      "                                                                 \n",
      " conv2d_22 (Conv2D)          (None, 12, 12, 1024)      4719616   \n",
      "                                                                 \n",
      " max_pooling2d_22 (MaxPoolin  (None, 6, 6, 1024)       0         \n",
      " g2D)                                                            \n",
      "                                                                 \n",
      " batch_normalization_11 (Bat  (None, 6, 6, 1024)       4096      \n",
      " chNormalization)                                                \n",
      "                                                                 \n",
      " flatten_5 (Flatten)         (None, 36864)             0         \n",
      "                                                                 \n",
      " dense_15 (Dense)            (None, 50)                1843250   \n",
      "                                                                 \n",
      " dropout_10 (Dropout)        (None, 50)                0         \n",
      "                                                                 \n",
      " dense_16 (Dense)            (None, 64)                3264      \n",
      "                                                                 \n",
      " dropout_11 (Dropout)        (None, 64)                0         \n",
      "                                                                 \n",
      " dense_17 (Dense)            (None, 32)                2080      \n",
      "                                                                 \n",
      " dropout_12 (Dropout)        (None, 32)                0         \n",
      "                                                                 \n",
      " dense_18 (Dense)            (None, 1)                 33        \n",
      "                                                                 \n",
      "=================================================================\n",
      "Total params: 7,255,935\n",
      "Trainable params: 7,253,881\n",
      "Non-trainable params: 2,054\n",
      "_________________________________________________________________\n"
     ]
    }
   ],
   "source": [
    "model.summary()"
   ]
  },
  {
   "cell_type": "code",
   "execution_count": 57,
   "metadata": {},
   "outputs": [],
   "source": [
    "model.compile(optimizer=\"rmsprop\", loss=\"binary_crossentropy\", metrics=[\"accuracy\"])"
   ]
  },
  {
   "cell_type": "code",
   "execution_count": 58,
   "metadata": {},
   "outputs": [],
   "source": [
    "early_stopping = EarlyStopping(\n",
    "        monitor='loss',\n",
    "        min_delta=0.005,\n",
    "        patience=5,\n",
    "        restore_best_weights=True\n",
    ")"
   ]
  },
  {
   "cell_type": "code",
   "execution_count": 59,
   "metadata": {},
   "outputs": [
    {
     "name": "stdout",
     "output_type": "stream",
     "text": [
      "Epoch 1/20\n",
      "10/10 [==============================] - 53s 5s/step - loss: 1.8189 - accuracy: 0.5318 - val_loss: 0.6856 - val_accuracy: 0.5645\n",
      "Epoch 2/20\n",
      "10/10 [==============================] - 43s 4s/step - loss: 1.3565 - accuracy: 0.5184 - val_loss: 0.6480 - val_accuracy: 0.5484\n",
      "Epoch 3/20\n",
      "10/10 [==============================] - 43s 4s/step - loss: 0.9619 - accuracy: 0.5819 - val_loss: 0.6201 - val_accuracy: 0.6290\n",
      "Epoch 4/20\n",
      "10/10 [==============================] - 44s 4s/step - loss: 1.0090 - accuracy: 0.5652 - val_loss: 1.3306 - val_accuracy: 0.5000\n",
      "Epoch 5/20\n",
      "10/10 [==============================] - 44s 4s/step - loss: 1.0604 - accuracy: 0.5385 - val_loss: 0.7028 - val_accuracy: 0.5000\n",
      "Epoch 6/20\n",
      "10/10 [==============================] - 45s 5s/step - loss: 0.8112 - accuracy: 0.6020 - val_loss: 0.7375 - val_accuracy: 0.5000\n",
      "Epoch 7/20\n",
      "10/10 [==============================] - 47s 5s/step - loss: 0.8183 - accuracy: 0.5920 - val_loss: 0.5983 - val_accuracy: 0.5806\n",
      "Epoch 8/20\n",
      "10/10 [==============================] - 46s 5s/step - loss: 0.7364 - accuracy: 0.6722 - val_loss: 0.5836 - val_accuracy: 0.7258\n",
      "Epoch 9/20\n",
      "10/10 [==============================] - 43s 4s/step - loss: 0.7507 - accuracy: 0.5819 - val_loss: 0.9297 - val_accuracy: 0.5161\n",
      "Epoch 10/20\n",
      "10/10 [==============================] - 44s 5s/step - loss: 0.7912 - accuracy: 0.5753 - val_loss: 0.8267 - val_accuracy: 0.5000\n",
      "Epoch 11/20\n",
      "10/10 [==============================] - 44s 4s/step - loss: 0.7717 - accuracy: 0.5552 - val_loss: 0.7621 - val_accuracy: 0.4677\n",
      "Epoch 12/20\n",
      "10/10 [==============================] - 44s 4s/step - loss: 0.7369 - accuracy: 0.5452 - val_loss: 0.8482 - val_accuracy: 0.5323\n",
      "Epoch 13/20\n",
      "10/10 [==============================] - 44s 5s/step - loss: 0.6794 - accuracy: 0.6221 - val_loss: 0.6704 - val_accuracy: 0.6774\n",
      "Epoch 14/20\n",
      "10/10 [==============================] - 44s 4s/step - loss: 0.7155 - accuracy: 0.5920 - val_loss: 0.9899 - val_accuracy: 0.5645\n",
      "Epoch 15/20\n",
      "10/10 [==============================] - 44s 4s/step - loss: 0.7125 - accuracy: 0.6120 - val_loss: 0.6138 - val_accuracy: 0.6613\n",
      "Epoch 16/20\n",
      "10/10 [==============================] - 44s 4s/step - loss: 0.7833 - accuracy: 0.5151 - val_loss: 0.6176 - val_accuracy: 0.6290\n",
      "Epoch 17/20\n",
      "10/10 [==============================] - 44s 4s/step - loss: 0.7242 - accuracy: 0.5552 - val_loss: 0.7962 - val_accuracy: 0.5645\n",
      "Epoch 18/20\n",
      "10/10 [==============================] - 44s 4s/step - loss: 0.6625 - accuracy: 0.6054 - val_loss: 1.2931 - val_accuracy: 0.5484\n",
      "Epoch 19/20\n",
      "10/10 [==============================] - 44s 5s/step - loss: 0.6920 - accuracy: 0.6154 - val_loss: 0.5909 - val_accuracy: 0.6452\n",
      "Epoch 20/20\n",
      "10/10 [==============================] - 44s 4s/step - loss: 0.6522 - accuracy: 0.6020 - val_loss: 1.5972 - val_accuracy: 0.5323\n"
     ]
    }
   ],
   "source": [
    "history = model.fit(train_aug,\n",
    "                    epochs=20,\n",
    "                    validation_data=validation_aug,\n",
    "                    callbacks=[early_stopping])"
   ]
  },
  {
   "cell_type": "code",
   "execution_count": 60,
   "metadata": {},
   "outputs": [
    {
     "data": {
      "image/png": "[encoded data removed]",
      "text/plain": [
       "<Figure size 640x480 with 1 Axes>"
      ]
     },
     "metadata": {},
     "output_type": "display_data"
    }
   ],
   "source": [
    "import matplotlib.pyplot as plt\n",
    "\n",
    "plt.plot(history.history[\"accuracy\"], color=\"red\", label=\"train\")\n",
    "plt.plot(history.history[\"val_accuracy\"], color=\"blue\", label=\"validation\")\n",
    "plt.legend()\n",
    "plt.show()"
   ]
  },
  {
   "cell_type": "code",
   "execution_count": 61,
   "metadata": {},
   "outputs": [
    {
     "data": {
      "image/png": "[encoded data removed]",
      "text/plain": [
       "<Figure size 640x480 with 1 Axes>"
      ]
     },
     "metadata": {},
     "output_type": "display_data"
    }
   ],
   "source": [
    "plt.plot(history.history[\"loss\"], color=\"red\", label=\"train\")\n",
    "plt.plot(history.history[\"val_loss\"], color=\"blue\", label=\"validation\")\n",
    "plt.legend()\n",
    "plt.show()"
   ]
  },
  {
   "cell_type": "code",
   "execution_count": null,
   "metadata": {},
   "outputs": [],
   "source": []
  }
 ],
 "metadata": {
  "kernelspec": {
   "display_name": "Python 3",
   "language": "python",
   "name": "python3"
  },
  "language_info": {
   "codemirror_mode": {
    "name": "ipython",
    "version": 3
   },
   "file_extension": ".py",
   "mimetype": "text/x-python",
   "name": "python",
   "nbconvert_exporter": "python",
   "pygments_lexer": "ipython3",
   "version": "3.10.0"
  }
 },
 "nbformat": 4,
 "nbformat_minor": 2
}
